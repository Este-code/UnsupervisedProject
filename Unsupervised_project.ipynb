{
 "metadata": {
  "language_info": {
   "codemirror_mode": {
    "name": "ipython",
    "version": 3
   },
   "file_extension": ".py",
   "mimetype": "text/x-python",
   "name": "python",
   "nbconvert_exporter": "python",
   "pygments_lexer": "ipython3",
   "version": 3
  },
  "orig_nbformat": 4
 },
 "nbformat": 4,
 "nbformat_minor": 2,
 "cells": [
  {
   "cell_type": "code",
   "execution_count": null,
   "metadata": {},
   "outputs": [],
   "source": [
    "import pandas as pd\n",
    "import numpy as np\n",
    "import seaborn as sns\n",
    "import matplotlib.pyplot as plt\n",
    "from sklearn.cluster import KMeans"
   ]
  },
  {
   "cell_type": "code",
   "execution_count": null,
   "metadata": {},
   "outputs": [],
   "source": [
    "country_data = pd.read_csv('Country-data.csv') # loading the dataset\n",
    "\n",
    "columns_= [col for col in country_data.columns]\n",
    "columns_.remove('country')\n",
    "# displaying a line plot of every feature, a part from the name of the countries"
   ]
  },
  {
   "cell_type": "code",
   "execution_count": null,
   "metadata": {},
   "outputs": [],
   "source": [
    "i=1\n",
    "for col in columns_:\n",
    "    plt.subplot(5,2,i)\n",
    "    sns.lineplot(data=country_data[col])\n",
    "    plt.grid()\n",
    "    plt.xlabel('Countries')\n",
    "    i+=1"
   ]
  },
  {
   "cell_type": "code",
   "execution_count": null,
   "metadata": {},
   "outputs": [],
   "source": [
    "# plotting the heatmap to check the correlation between features\n",
    "heat_map = sns.heatmap(country_data.corr(), annot=True)"
   ]
  },
  {
   "cell_type": "code",
   "execution_count": null,
   "metadata": {},
   "outputs": [],
   "source": [
    "# k means clustering based on the correlation between child moratility and total fertility\n",
    "# (I checked which features have the highest correlation based on the heatmap.)\n",
    "# (The highest one was the correlation between income and gdpp; but when I plotted them, the clustering was not so clear.)\n",
    "#(Therefore I tried the second highest correlation, which is the one between child moratlity and total fertility, and the result was very clear.)\n",
    "sns.scatterplot(x=country_data['child_mort'], y=country_data['total_fer'])"
   ]
  },
  {
   "cell_type": "code",
   "execution_count": null,
   "metadata": {},
   "outputs": [],
   "source": [
    "child_fer = np.array(country_data[['child_mort','total_fer']]) \n",
    "child_fer = np.vstack(child_fer.astype(np.float32))"
   ]
  },
  {
   "cell_type": "code",
   "execution_count": null,
   "metadata": {},
   "outputs": [],
   "source": [
    "# I decided to set 3 as number of cluster, to underline the countries who need help from the ones that partially need help, and the ones that do not need help.\n",
    "kmeans = KMeans(n_clusters=3, n_init=15)\n",
    "kmeans.fit(child_fer)\n",
    "clusters = kmeans.labels_"
   ]
  },
  {
   "cell_type": "code",
   "execution_count": null,
   "metadata": {},
   "outputs": [],
   "source": [
    "# Plotting the result\n",
    "fig, ax = plt.subplots()\n",
    "idxs = np.unique(kmeans.labels_)\n",
    "\n",
    "for i in idxs:\n",
    "    points = child_fer[kmeans.labels_==i,:]\n",
    "    plt.scatter(points[:,0], points[:,1])\n",
    "    plt.scatter(kmeans.cluster_centers_[i][0], kmeans.cluster_centers_[i][1], s=100, c='red')\n",
    "\n",
    "\n",
    "ax.set_title('k-means based on the correlation between child mortality and total fertility')\n",
    "ax.set_xlabel('child_mort')\n",
    "ax.set_ylabel('total_fer')"
   ]
  },
  {
   "cell_type": "code",
   "execution_count": null,
   "metadata": {},
   "outputs": [],
   "source": [
    "# Next, I want to show the list of the countries which need help, based on the result of the clustering.\n",
    "\n",
    "country_data['cluster'] = clusters\n",
    "need_help = country_data[(country_data['cluster']==0)]\n",
    "country_names = need_help['country']\n",
    "\n",
    "print(\"Countries that need help, based on the clustering: \")\n",
    "print(country_names)"
   ]
  }
 ]
}